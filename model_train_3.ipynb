{
 "cells": [
  {
   "cell_type": "markdown",
   "metadata": {},
   "source": [
    "读取数据，并划分数据集，验证集以及测试集"
   ]
  },
  {
   "cell_type": "code",
   "execution_count": 1,
   "metadata": {},
   "outputs": [
    {
     "data": {
      "text/plain": [
       "10"
      ]
     },
     "execution_count": 1,
     "metadata": {},
     "output_type": "execute_result"
    }
   ],
   "source": [
    "import gc\n",
    "import numpy as np\n",
    "import pandas as pd\n",
    "import warnings\n",
    "warnings.filterwarnings('ignore')\n",
    "\n",
    "matrix = pd.read_csv('./result/matrix.csv')\n",
    "matrix = matrix.drop(matrix.columns[0],axis=1)\n",
    "\n",
    "#train、test-setdata\n",
    "train_data = matrix[matrix['origin'] == 'train'].drop(['origin'], axis=1)\n",
    "test_data = matrix[matrix['origin'] == 'test'].drop(['label', 'origin'], axis=1)\n",
    "train_X, train_y = train_data.drop(['label'], axis=1), train_data['label']\n",
    "\n",
    "#导入分析库\n",
    "from sklearn.model_selection import train_test_split\n",
    "# X_train, X_valid, y_train, y_valid = train_test_split(train_X, train_y, test_size=.3)\n",
    "# 最终版提交，使用所有训练数据，训练模型\n",
    "X_train, X_valid, y_train, y_valid = train_test_split(train_X, train_y, test_size=0.1)\n",
    "X_train, X_valid, y_train, y_valid = X_train.values, X_valid.values, y_train.values.astype('float32'), y_valid.values.astype('float32') \n",
    "test_data = test_data.values\n",
    "\n",
    "gc.collect()\n",
    "# del data_train,temp"
   ]
  },
  {
   "cell_type": "markdown",
   "metadata": {},
   "source": [
    "### 单模型训练\n",
    "\n",
    "将训练集划分为训练与测试集合，在各种模型上进行测试。\n",
    "\n",
    "评价指标有精度，回召率，准确度，混淆矩阵，AUC面积以及分类报告\n",
    "\n",
    "如下，SVM，GMM，DT表现效果一般，舍弃。另外KNN时间代价太大，舍弃。"
   ]
  },
  {
   "cell_type": "code",
   "execution_count": 2,
   "metadata": {},
   "outputs": [
    {
     "name": "stdout",
     "output_type": "stream",
     "text": [
      "模型GBDT:\n",
      "模型GBDT, 耗时 2.5543150345484418 minutes:\n",
      "使用clf.score计算, 测试集的准确度为0.9397017671637214\n",
      "测试集的ROC面积为0.7218786925565353\n",
      "测试集的混淆矩阵为:\n",
      "[[24513     8]\n",
      " [ 1565     1]]\n",
      "测试集的分类报告为:\n",
      "              precision    recall  f1-score   support\n",
      "\n",
      "         0.0       0.94      1.00      0.97     24521\n",
      "         1.0       0.11      0.00      0.00      1566\n",
      "\n",
      "    accuracy                           0.94     26087\n",
      "   macro avg       0.53      0.50      0.49     26087\n",
      "weighted avg       0.89      0.94      0.91     26087\n",
      "\n"
     ]
    }
   ],
   "source": [
    "import time\n",
    "import xgboost as xgb\n",
    "from model import model_train\n",
    "from sklearn.svm import SVC\n",
    "from sklearn.linear_model import LogisticRegression\n",
    "from sklearn.tree import DecisionTreeClassifier\n",
    "from sklearn.naive_bayes import GaussianNB\n",
    "from sklearn.mixture import GaussianMixture\n",
    "from sklearn.neighbors import KNeighborsClassifier\n",
    "from sklearn.ensemble import GradientBoostingClassifier\n",
    "from xgboost import XGBClassifier\n",
    "\n",
    "model_dict = {'svm':SVC,'logistic':LogisticRegression,'decision_tree':DecisionTreeClassifier,'bayes':GaussianNB,\n",
    "               'mixture':GaussianMixture,'KNN':KNeighborsClassifier,'GBDT':GradientBoostingClassifier,'XGBoost':XGBClassifier}\n",
    "# svm与mixture效果都不好，knn模型则训练时间过程\n",
    "# model_train('svm',model=model_dict['svm'])\n",
    "# model_train('KNN',model=model_dict['KNN'])\n",
    "# model_train('mixture',model=model_dict['mixture'],x_train=X_train,y_train=y_train,x_val=X_valid,y_val=y_valid)\n",
    "\n",
    "# model = model_train('logistic',model=model_dict['logistic'],x_train=X_train,y_train=y_train,x_val=X_valid,y_val=y_valid)\n",
    "# model = model_train('bayes',model=model_dict['bayes'],x_train=X_train,y_train=y_train,x_val=X_valid,y_val=y_valid)\n",
    "# model = model_train('decision_tree',model=model_dict['decision_tree'],x_train=X_train,y_train=y_train,x_val=X_valid,y_val=y_valid)\n",
    "# model = model_train('GBDT',model=model_dict['GBDT'],x_train=X_train,y_train=y_train,x_val=X_valid,y_val=y_valid)\n",
    "model = model_train('XGBoost',model=model_dict['XGBoost'],x_train=X_train,y_train=y_train,x_val=X_valid,y_val=y_valid)\n"
   ]
  },
  {
   "cell_type": "markdown",
   "metadata": {},
   "source": [
    "生成提交文件"
   ]
  },
  {
   "cell_type": "code",
   "execution_count": null,
   "metadata": {},
   "outputs": [],
   "source": [
    "paths = './data_format1'\n",
    "submission = pd.read_csv(f'{paths}/test_format1.csv')\n",
    "\n",
    "prob = model(test_data)[:,1]\n",
    "submission['prob'] = prob\n",
    "submission.to_csv('./result/submission.csv', index=False)"
   ]
  },
  {
   "cell_type": "markdown",
   "metadata": {},
   "source": [
    "由于正负样本比例相差较大，使用了8个模型训练效果都较差。正类的召回率与精度都很低\n",
    "\n",
    "解决方案见模型优化"
   ]
  }
 ],
 "metadata": {
  "interpreter": {
   "hash": "579282893146967bc5d17141c601e8a8b8ad4a0a2a5a6fe1c87b1000077400d7"
  },
  "kernelspec": {
   "display_name": "Python 3.7.4 ('base')",
   "language": "python",
   "name": "python3"
  },
  "language_info": {
   "codemirror_mode": {
    "name": "ipython",
    "version": 3
   },
   "file_extension": ".py",
   "mimetype": "text/x-python",
   "name": "python",
   "nbconvert_exporter": "python",
   "pygments_lexer": "ipython3",
   "version": "3.7.4"
  },
  "orig_nbformat": 4
 },
 "nbformat": 4,
 "nbformat_minor": 2
}
